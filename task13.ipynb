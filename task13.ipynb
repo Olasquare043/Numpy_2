{
 "cells": [
  {
   "cell_type": "markdown",
   "id": "914c0555",
   "metadata": {},
   "source": [
    "\n",
    "\n",
    "1. Create a 6x6 NumPy array with random integers between 1 and 50. Display the array.\n",
    "\n",
    "2. Extract the following from the array you created in Question 1: The first two rows. The last three columns. All even numbers in the array.\n",
    "\n",
    "3. Perform the following array transformations: Reshape the array into a 3D (3, 2, 6) array. Flatten the reshaped array back to 1D.\n",
    "\n",
    "4. Generate a 4x4 identity matrix and replace the diagonal with numbers from 10 to 40, with a step of 10.\n",
    "\n",
    "5. Perform matrix multiplication between: A 3x4 matrix of random integers (1-10) A 4x3 matrix of random integers (1-10)\n",
    "\n",
    "6. Create a function that takes a 2D NumPy array as input and returns a new array where: All even numbers are squared. All odd numbers are replaced by -1."
   ]
  },
  {
   "cell_type": "markdown",
   "id": "0c9b9b3e",
   "metadata": {},
   "source": [
    "## Solution to Question 1 ##\n",
    "### Create a 6x6 NumPy array with random integers between 1 and 50. Display the array. ###"
   ]
  },
  {
   "cell_type": "code",
   "execution_count": null,
   "id": "a33760e4",
   "metadata": {},
   "outputs": [],
   "source": [
    "import numpy as np\n",
    "import random\n",
    "arr=np.random.randn(6,6)\n",
    "for row in range(0,6):\n",
    "    for col in range(0,6):\n",
    "        arr[row,col]=random.randint(1,50)\n",
    "print(arr)"
   ]
  },
  {
   "cell_type": "code",
   "execution_count": null,
   "id": "f3637969",
   "metadata": {},
   "outputs": [],
   "source": [
    "arr = np.random.randint(1, 51, size=(6,6))\n",
    "arr"
   ]
  },
  {
   "cell_type": "markdown",
   "id": "2d997be9",
   "metadata": {},
   "source": []
  },
  {
   "cell_type": "markdown",
   "id": "050d4dd8",
   "metadata": {},
   "source": [
    "## Solution to Question 2 ##\n",
    "### Extract the following from the array you created in Question 1: The first two rows. The last three columns. All even numbers in the array."
   ]
  },
  {
   "cell_type": "markdown",
   "id": "139dfbab",
   "metadata": {},
   "source": [
    "#### First two rows ####"
   ]
  },
  {
   "cell_type": "code",
   "execution_count": null,
   "id": "d3939b7c",
   "metadata": {},
   "outputs": [],
   "source": [
    "first_2_rows=arr[:2,:6]\n",
    "print(f\"First two rows: \\n {first_2_rows}\")"
   ]
  },
  {
   "cell_type": "markdown",
   "id": "6992783a",
   "metadata": {},
   "source": [
    "#### The last three columns ####\n"
   ]
  },
  {
   "cell_type": "code",
   "execution_count": null,
   "id": "e20c5d02",
   "metadata": {},
   "outputs": [],
   "source": [
    "last_3_cols= arr[:6,3:]\n",
    "print(f'The last three columns:\\n{last_3_cols}')"
   ]
  },
  {
   "cell_type": "markdown",
   "id": "f296153b",
   "metadata": {},
   "source": []
  },
  {
   "cell_type": "markdown",
   "id": "efb3b61c",
   "metadata": {},
   "source": [
    "#### All even numbers in the array. ####"
   ]
  },
  {
   "cell_type": "code",
   "execution_count": null,
   "id": "331cf8a3",
   "metadata": {},
   "outputs": [],
   "source": [
    "evenNum= []\n",
    "for row in range(0,6):\n",
    "    for col in range(0,6):\n",
    "        if arr[row,col]%2 ==0:\n",
    "            evenNum.append(int(arr[row,col]))\n",
    "print (f\"All even numbers are: {evenNum}\")"
   ]
  },
  {
   "cell_type": "markdown",
   "id": "bf81f5ca",
   "metadata": {},
   "source": [
    "## Solution to Question 3 ##\n",
    "### Perform the following array transformations: Reshape the array into a 3D (3, 2, 6) array. Flatten the reshaped array back to 1D. ###"
   ]
  },
  {
   "cell_type": "code",
   "execution_count": null,
   "id": "d6b83273",
   "metadata": {},
   "outputs": [],
   "source": [
    "reshaped_arr=arr.reshape(3,2,6)\n",
    "print(f\"The 3D array is:\\n {reshaped_arr}\")\n",
    "\n",
    "flattedarr3D= reshaped_arr.flatten()\n",
    "print(f\"Flatted array:\\n {flattedarr3D}\")"
   ]
  },
  {
   "cell_type": "markdown",
   "id": "d8cb4780",
   "metadata": {},
   "source": [
    "## Solution to Question 4 ##\n",
    "### Generate a 4x4 identity matrix and replace the diagonal with numbers from 10 to 40, with a step of 10. ###"
   ]
  },
  {
   "cell_type": "code",
   "execution_count": null,
   "id": "dca8d6b5",
   "metadata": {},
   "outputs": [],
   "source": [
    "arr4x4_identity= np.eye(4,4)\n",
    "np.fill_diagonal(arr4x4_identity,[10,20,30,40])\n",
    "print(f\"The identity matrix 4x4 is:\\n {arr4x4_identity}\")\n"
   ]
  },
  {
   "cell_type": "markdown",
   "id": "33aef3be",
   "metadata": {},
   "source": [
    "#### Another method for Question 4 ####"
   ]
  },
  {
   "cell_type": "code",
   "execution_count": null,
   "id": "0e60e546",
   "metadata": {},
   "outputs": [],
   "source": [
    "\n",
    "arr4x4diag= np.diag([10,20,30,40])\n",
    "print(f\"The identity matrix 4x4 with number from 10 to 40 is:\\n {arr4x4diag}\")"
   ]
  },
  {
   "cell_type": "markdown",
   "id": "8d4401ce",
   "metadata": {},
   "source": [
    "## Solution to Question 5 ##\n",
    "### Perform matrix multiplication between: A 3x4 matrix of random integers (1-10) A 4x3 matrix of random integers (1-10)"
   ]
  },
  {
   "cell_type": "code",
   "execution_count": null,
   "id": "fcb3908d",
   "metadata": {},
   "outputs": [],
   "source": [
    "arr3x4= np.random.randint(1,11,size=(3,4))\n",
    "arr4x3= np.random.randint(1,11,size=(4,3))\n",
    "answer =np.dot(arr4x3,arr3x4)\n",
    "print(f\"The product of the two matrix is:\\n {answer}\")"
   ]
  },
  {
   "cell_type": "markdown",
   "id": "ebcbc5c8",
   "metadata": {},
   "source": [
    "## Solution to Question 6 ##\n",
    "### Create a function that takes a 2D NumPy array as input and returns a new array where: All even numbers are squared. All odd numbers are replaced by -1. "
   ]
  },
  {
   "cell_type": "markdown",
   "id": "bb4cff19",
   "metadata": {},
   "source": [
    "### The actual solution"
   ]
  },
  {
   "cell_type": "code",
   "execution_count": null,
   "id": "b0f831bb",
   "metadata": {},
   "outputs": [],
   "source": [
    "#function that takes a 2D NumPy array as input and returns a new array where: All even numbers are squared. All odd numbers are replaced by -1. \n",
    "def squared_even_odd_1(arr):\n",
    "    print(f\"The new array is: \\n {np.where(arr%2==0,arr**2,-1)}\")\n",
    "array= np.random.randint(1,51,size=(5,6))    \n",
    "squared_even_odd_1(array)"
   ]
  },
  {
   "cell_type": "markdown",
   "id": "f8ef780d",
   "metadata": {},
   "source": [
    "### Playing around with question 5"
   ]
  },
  {
   "cell_type": "code",
   "execution_count": null,
   "id": "edbd3f19",
   "metadata": {},
   "outputs": [],
   "source": [
    "#a function that takes a 2D NumPy array as input and returns a new array where: All even numbers are squared. All odd numbers are replaced by -1. \n",
    "def squared_even_odd_1(arr):\n",
    "    print(f\"\\nThe new array is: \\n {np.where(arr%2==0,arr**2,-1)}\")\n",
    "# function to generate random array\n",
    "def gen_random_array(gen_row,gen_col):\n",
    "    gen_row=int(input(\"How many rows is your array?: \"))\n",
    "    gen_col=int(input(\"How many colums is your array?: \"))\n",
    "    # gen_col=input(\"What is the range value of your element? e.g (Range btw 1 to 51) many colums is your array?: \")\n",
    "    array= np.random.randint(1,51,size=(gen_row,gen_col))\n",
    "    return array\n",
    "\n",
    "# function to enter your Array elements yourself\n",
    "def input_your_element(gen_row,gen_col):\n",
    "    gen_row=int(input(\"How many rows is your array?: \"))\n",
    "    gen_col=int(input(\"How many colums is your array?: \"))\n",
    "    # define array\n",
    "    # array= np.zeros(gen_row,gen_col)\n",
    "    array = np.zeros((gen_row, gen_col), dtype=int)\n",
    "    # array= np.array(gen_row,gen_col)\n",
    "    for row in range(gen_row):\n",
    "        for col in range(gen_col):\n",
    "            # loop to make sure only integer is inserted\n",
    "            while True:\n",
    "                try:\n",
    "                    value=int(input(f\"Enter element for row:{row}, col:{col} is your array?: \") )\n",
    "                    array[row,col]= value\n",
    "                    break\n",
    "                except ValueError:\n",
    "                    print(\"Please enter only integer numbers\")\n",
    "            # end of while loop\n",
    "    return array\n",
    "\n",
    "#  Driver code \n",
    "print(\"========================================\")\n",
    "print(\"Do your want to use random array or enter your own elements?: \")\n",
    "print(\"1. Generate\")\n",
    "print(\"2. Input your owner element\")\n",
    "print(\"\")\n",
    "choice= input(\"Enter your choice: \")\n",
    "print(\"\")\n",
    "\n",
    "if choice =='1':\n",
    "    array=gen_random_array()\n",
    "    squared_even_odd_1(array)\n",
    "elif choice=='2':\n",
    "    array=input_your_element()\n",
    "    squared_even_odd_1(array)\n",
    "else:\n",
    "    print(\"Enter valid choice between 1 to 3: \")\n",
    "   \n"
   ]
  },
  {
   "cell_type": "markdown",
   "id": "ab3d8326",
   "metadata": {},
   "source": [
    "### Using normal procedural python"
   ]
  },
  {
   "cell_type": "code",
   "execution_count": null,
   "id": "2fec716c",
   "metadata": {},
   "outputs": [],
   "source": [
    "# a function that takes a 2D NumPy array as input and returns a new array where: All even numbers are squared. All odd numbers are replaced by -1. \n",
    "def squared_even_odd_1(arr):\n",
    "    for row in range(0,6):\n",
    "        for col in range(0,6):\n",
    "            if arr[row,col]%2 ==0:\n",
    "                arr[row,col]= arr[row,col]**2\n",
    "            else:\n",
    "              arr[row,col]= -1  \n",
    "    print (f\"The new Array ais: {arr}\")\n",
    "\n",
    "# driver code\n",
    "q5_arr2d= np.random.randint(1,51,size=(6,6))\n",
    "squared_even_odd_1(q5_arr2d)\n"
   ]
  }
 ],
 "metadata": {
  "kernelspec": {
   "display_name": ".venv",
   "language": "python",
   "name": "python3"
  },
  "language_info": {
   "codemirror_mode": {
    "name": "ipython",
    "version": 3
   },
   "file_extension": ".py",
   "mimetype": "text/x-python",
   "name": "python",
   "nbconvert_exporter": "python",
   "pygments_lexer": "ipython3",
   "version": "3.13.7"
  }
 },
 "nbformat": 4,
 "nbformat_minor": 5
}
